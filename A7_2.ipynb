{
 "cells": [
  {
   "cell_type": "code",
   "execution_count": 2,
   "metadata": {},
   "outputs": [],
   "source": [
    "import wrds\n",
    "import numpy as np\n",
    "import pandas as pd\n",
    "import matplotlib.pyplot as plt\n",
    "import statsmodels.api as sm"
   ]
  },
  {
   "cell_type": "markdown",
   "metadata": {},
   "source": [
    "(a)"
   ]
  },
  {
   "cell_type": "code",
   "execution_count": 3,
   "metadata": {},
   "outputs": [
    {
     "name": "stdout",
     "output_type": "stream",
     "text": [
      "Loading library list...\n",
      "Done\n"
     ]
    }
   ],
   "source": [
    "#loading data\n",
    "db = wrds.Connection(wrds_username='edvardc')\n",
    "\n",
    "mkt = db.raw_sql(\"select date, vwretd from crsp.msi where date>='2000-01-01' and date<='2019-12-31'\", date_cols=['date'])\n",
    "tbills = db.raw_sql(\"select mcaldt, tmytm from crsp.tfz_mth_rf where kytreasnox = 2000001 and mcaldt>='2000-01-01' and mcaldt<='2019-12-31'\")\n",
    "\n",
    "stocksraw = db.raw_sql(\"select a.date, a.ret, a.prc, a.shrout, a.permno from crsp.msf as a left join crsp.msenames as b on a.permno=b.permno and b.namedt<=a.date and b.nameendt>=a.date where a.date>='2000-01-01' and a.date<='2019-12-31' and b.shrcd in (10, 11) and b.exchcd in (1, 2)\", date_cols=['date'])"
   ]
  },
  {
   "cell_type": "code",
   "execution_count": 4,
   "metadata": {},
   "outputs": [],
   "source": [
    "#transform T-Bills into simple monthly figures\n",
    "tbills_m = np.transpose(pd.DataFrame([tbills.mcaldt, np.log(1+tbills.tmytm/100) / 12]))\n",
    "r0 = np.mean(tbills_m.tmytm)"
   ]
  },
  {
   "cell_type": "code",
   "execution_count": 10,
   "metadata": {},
   "outputs": [
    {
     "name": "stdout",
     "output_type": "stream",
     "text": [
      "Number of stocks with 240 values:  639\n"
     ]
    }
   ],
   "source": [
    "#leaving stocks with full data only\n",
    "length = stocksraw.groupby(['permno']).agg(['count'])['date']\n",
    "stocks = stocksraw[stocksraw['permno'].isin(length[length['count'] == 240].index)]\n",
    "\n",
    "# stockspivot = stocks.pivot(index='date', columns='permno', values='ret')\n",
    "print('Number of stocks with 240 values: ', len(np.unique(stocks.permno)))"
   ]
  },
  {
   "cell_type": "code",
   "execution_count": 19,
   "metadata": {},
   "outputs": [
    {
     "name": "stdout",
     "output_type": "stream",
     "text": [
      "Stocks with at least one NA value: \n",
      "[64899. 84302. 87541.]\n"
     ]
    }
   ],
   "source": [
    "print('Stocks with at least one NA value: ')\n",
    "print(stocks.permno[stocks.ret.isna()].values)\n",
    "#dropping NA\n",
    "# stocks = stocks[~stocks['permno'].isin(stocks.permno[stocks.ret.isna()].values)]"
   ]
  },
  {
   "cell_type": "code",
   "execution_count": 6,
   "metadata": {},
   "outputs": [],
   "source": [
    "#calculating market cap.\n",
    "stocks['mktcap'] = np.abs(stocks['prc']) * stocks['shrout']"
   ]
  },
  {
   "cell_type": "markdown",
   "metadata": {},
   "source": [
    "Stocks with at least one NA value were removed from analysis."
   ]
  },
  {
   "cell_type": "code",
   "execution_count": 12,
   "metadata": {},
   "outputs": [],
   "source": [
    "#deciles from last date for part b)\n",
    "last_date = stocks[stocks.date == '2019-12-31']\n",
    "last_date.loc[:,'deciles_b'] = pd.qcut(last_date.mktcap, 10).cat.codes\n",
    "stocks = stocks.merge(last_date[['permno', 'deciles_b']], on = 'permno', how = 'left')\n",
    "\n",
    "#monthly deciles for part c)\n",
    "deciles_c = np.zeros((len(np.unique(stocks.date))*len(np.unique(stocks.permno)), 1))  \n",
    "stocks_sorted = stocks.sort_values(by=['date', 'permno'])\n",
    "i = 0\n",
    "for date in np.unique(stocks_sorted.date):\n",
    "    #9 - highest market cap, 0 - lowest\n",
    "    deciles_c[i:i + len(np.unique(stocks.permno))] = pd.DataFrame(pd.qcut(stocks_sorted[stocks_sorted.date == date].mktcap, 10).cat.codes)\n",
    "    i = i + len(np.unique(stocks_sorted.permno))\n",
    "deciles_c = pd.DataFrame(deciles_c, index = stocks_sorted.index, columns = ['deciles_c'])\n",
    "    \n",
    "stocks_sorted = stocks_sorted.merge(deciles_c, on = stocks_sorted.index, how = 'left')\n",
    "stocks_sorted = stocks_sorted.drop(['key_0'], axis=1)"
   ]
  },
  {
   "cell_type": "code",
   "execution_count": 13,
   "metadata": {},
   "outputs": [],
   "source": [
    "avg_ex_ret = []\n",
    "pf_m_ret = []\n",
    "coefs = []\n",
    "i = 0\n",
    "for sorting in ['deciles_b', 'deciles_c']:\n",
    "    #ew monthly returns\n",
    "    pf_ew_m_ret = pd.DataFrame(stocks_sorted.groupby([sorting, 'date']).agg([\"sum\"])['ret']['sum'] / stocks_sorted.groupby([sorting, 'date']).agg([\"count\"])['ret']['count'])\n",
    "    pf_ew_m_ret['date'], pf_ew_m_ret[sorting] = pf_ew_m_ret.index.get_level_values('date'), pf_ew_m_ret.index.get_level_values(sorting)\n",
    "    pf_ew_m_ret = pf_ew_m_ret.reset_index(drop=True)\n",
    "    pf_ew_m_ret.columns = ['ew_ret', 'date', sorting]\n",
    "    \n",
    "    #vw monthly returns\n",
    "    tot_mktcap = pd.DataFrame(stocks_sorted.groupby([sorting, 'date']).agg([\"sum\"])['mktcap']['sum'])\n",
    "    tot_mktcap['date'], tot_mktcap[sorting] = tot_mktcap.index.get_level_values('date'), tot_mktcap.index.get_level_values(sorting)\n",
    "    tot_mktcap = tot_mktcap.reset_index(drop=True)\n",
    "    tot_mktcap.columns = ['tot_mktcap', 'date', sorting]\n",
    "    \n",
    "    #shifting market cap. time series by a month\n",
    "    tot_mktcap['tot_mktcap'] = tot_mktcap.groupby([sorting])['tot_mktcap'].shift(1)\n",
    "    stocks_sorted_mktcap = stocks_sorted.merge(tot_mktcap, on = [sorting, 'date'], how = 'left')\n",
    "    \n",
    "    #deleting first date of time series from analysis\n",
    "    stocks_sorted_mktcap = stocks_sorted_mktcap[~(stocks_sorted_mktcap.date == '2001-01-31')]\n",
    "    \n",
    "    stocks_sorted_mktcap['mktcap_weight'] = stocks_sorted_mktcap['mktcap'] / stocks_sorted_mktcap['tot_mktcap']\n",
    "    stocks_sorted_mktcap['vwret'] = stocks_sorted_mktcap['mktcap_weight'] * stocks_sorted_mktcap['ret']\n",
    "    \n",
    "    pf_vw_m_ret = pd.DataFrame(stocks_sorted_mktcap.groupby([sorting, 'date']).agg([\"sum\"])['vwret']['sum'])\n",
    "    pf_vw_m_ret['date'], pf_vw_m_ret[sorting] = pf_vw_m_ret.index.get_level_values('date'), pf_vw_m_ret.index.get_level_values(sorting)\n",
    "    pf_vw_m_ret = pf_vw_m_ret.reset_index(drop=True)\n",
    "    pf_vw_m_ret.columns = ['vw_ret', 'date', sorting]\n",
    "    \n",
    "    pf_m_ret.append(pf_ew_m_ret.merge(pf_vw_m_ret, on = [sorting, 'date'], how = 'left'))\n",
    "    \n",
    "    \n",
    "    #average returns, betas and alphas of 10 portfolios\n",
    "    mkt_ex = pd.DataFrame(mkt.vwretd.values - r0)\n",
    "    mkt_ex['const'] = 1\n",
    "        \n",
    "    ex_ret = {}\n",
    "    alpha = {}\n",
    "    beta = {}\n",
    "    for ret in ['ew_ret', 'vw_ret']:\n",
    "        ex_ret[ret] = pf_m_ret[i].groupby(sorting).agg([\"sum\"])[ret]['sum'] / pf_m_ret[i].groupby(sorting).agg([\"count\"])[ret]['count'] - r0\n",
    "        for pf in np.unique(pf_m_ret[i][sorting]):\n",
    "            model = sm.OLS(endog=pf_m_ret[i][pf_m_ret[i][sorting] == pf][ret].values, exog=mkt_ex, missing='drop').fit()\n",
    "            beta[ret, pf] = model.params[0]\n",
    "            alpha[ret, pf] = model.params[\"const\"]\n",
    "            \n",
    "    alpha = pd.DataFrame(alpha.values(), index = alpha.keys())\n",
    "    alpha['ret_type'], alpha[sorting] = alpha.index.get_level_values(0), alpha.index.get_level_values(1)\n",
    "    \n",
    "    beta = pd.DataFrame(beta.values(), index = beta.keys())\n",
    "    beta['ret_type'], beta[sorting] = beta.index.get_level_values(0), beta.index.get_level_values(1)\n",
    "    \n",
    "    coefs.append(alpha.merge(beta, on = ['ret_type', sorting]))\n",
    "    coefs[i].columns = ['alpha', 'ret_type', sorting, 'beta']\n",
    "    \n",
    "    avg_ex_ret.append(ex_ret)\n",
    "    \n",
    "    i = i + 1"
   ]
  },
  {
   "cell_type": "code",
   "execution_count": 40,
   "metadata": {
    "scrolled": false
   },
   "outputs": [
    {
     "name": "stdout",
     "output_type": "stream",
     "text": [
      "\n",
      " (b) Annualized statistics of the portfolios. Portfolio 1 - decile with lowest market capitalization stocks, portfolio 10 - with highest market capitalization stocks.\n",
      "\n",
      "        Equally weighted                   Value weighted\n"
     ]
    },
    {
     "data": {
      "text/html": [
       "<div>\n",
       "<style scoped>\n",
       "    .dataframe tbody tr th:only-of-type {\n",
       "        vertical-align: middle;\n",
       "    }\n",
       "\n",
       "    .dataframe tbody tr th {\n",
       "        vertical-align: top;\n",
       "    }\n",
       "\n",
       "    .dataframe thead th {\n",
       "        text-align: right;\n",
       "    }\n",
       "</style>\n",
       "<table border=\"1\" class=\"dataframe\">\n",
       "  <thead>\n",
       "    <tr style=\"text-align: right;\">\n",
       "      <th></th>\n",
       "      <th>Avg. ex. return (%)</th>\n",
       "      <th>Alpha</th>\n",
       "      <th>Beta</th>\n",
       "      <th>Avg. ex. return (%)</th>\n",
       "      <th>Alpha</th>\n",
       "      <th>Beta</th>\n",
       "    </tr>\n",
       "  </thead>\n",
       "  <tbody>\n",
       "    <tr>\n",
       "      <td>1</td>\n",
       "      <td>10.741</td>\n",
       "      <td>0.063</td>\n",
       "      <td>1.094</td>\n",
       "      <td>20.809</td>\n",
       "      <td>0.159</td>\n",
       "      <td>1.216</td>\n",
       "    </tr>\n",
       "    <tr>\n",
       "      <td>2</td>\n",
       "      <td>12.324</td>\n",
       "      <td>0.072</td>\n",
       "      <td>1.220</td>\n",
       "      <td>17.163</td>\n",
       "      <td>0.122</td>\n",
       "      <td>1.233</td>\n",
       "    </tr>\n",
       "    <tr>\n",
       "      <td>3</td>\n",
       "      <td>14.074</td>\n",
       "      <td>0.089</td>\n",
       "      <td>1.228</td>\n",
       "      <td>19.728</td>\n",
       "      <td>0.158</td>\n",
       "      <td>1.046</td>\n",
       "    </tr>\n",
       "    <tr>\n",
       "      <td>4</td>\n",
       "      <td>13.794</td>\n",
       "      <td>0.086</td>\n",
       "      <td>1.236</td>\n",
       "      <td>21.658</td>\n",
       "      <td>0.170</td>\n",
       "      <td>1.181</td>\n",
       "    </tr>\n",
       "    <tr>\n",
       "      <td>5</td>\n",
       "      <td>13.623</td>\n",
       "      <td>0.097</td>\n",
       "      <td>1.006</td>\n",
       "      <td>16.827</td>\n",
       "      <td>0.134</td>\n",
       "      <td>0.937</td>\n",
       "    </tr>\n",
       "    <tr>\n",
       "      <td>6</td>\n",
       "      <td>14.305</td>\n",
       "      <td>0.098</td>\n",
       "      <td>1.117</td>\n",
       "      <td>17.267</td>\n",
       "      <td>0.133</td>\n",
       "      <td>1.052</td>\n",
       "    </tr>\n",
       "    <tr>\n",
       "      <td>7</td>\n",
       "      <td>14.542</td>\n",
       "      <td>0.105</td>\n",
       "      <td>1.028</td>\n",
       "      <td>17.653</td>\n",
       "      <td>0.137</td>\n",
       "      <td>1.040</td>\n",
       "    </tr>\n",
       "    <tr>\n",
       "      <td>8</td>\n",
       "      <td>12.939</td>\n",
       "      <td>0.095</td>\n",
       "      <td>0.912</td>\n",
       "      <td>16.611</td>\n",
       "      <td>0.131</td>\n",
       "      <td>0.961</td>\n",
       "    </tr>\n",
       "    <tr>\n",
       "      <td>9</td>\n",
       "      <td>13.272</td>\n",
       "      <td>0.104</td>\n",
       "      <td>0.818</td>\n",
       "      <td>14.633</td>\n",
       "      <td>0.116</td>\n",
       "      <td>0.860</td>\n",
       "    </tr>\n",
       "    <tr>\n",
       "      <td>10</td>\n",
       "      <td>10.733</td>\n",
       "      <td>0.082</td>\n",
       "      <td>0.753</td>\n",
       "      <td>11.583</td>\n",
       "      <td>0.094</td>\n",
       "      <td>0.707</td>\n",
       "    </tr>\n",
       "  </tbody>\n",
       "</table>\n",
       "</div>"
      ],
      "text/plain": [
       "    Avg. ex. return (%)  Alpha   Beta  Avg. ex. return (%)   Alpha   Beta \n",
       "1                10.741  0.063  1.094                20.809   0.159  1.216\n",
       "2                12.324  0.072  1.220                17.163   0.122  1.233\n",
       "3                14.074  0.089  1.228                19.728   0.158  1.046\n",
       "4                13.794  0.086  1.236                21.658   0.170  1.181\n",
       "5                13.623  0.097  1.006                16.827   0.134  0.937\n",
       "6                14.305  0.098  1.117                17.267   0.133  1.052\n",
       "7                14.542  0.105  1.028                17.653   0.137  1.040\n",
       "8                12.939  0.095  0.912                16.611   0.131  0.961\n",
       "9                13.272  0.104  0.818                14.633   0.116  0.860\n",
       "10               10.733  0.082  0.753                11.583   0.094  0.707"
      ]
     },
     "metadata": {},
     "output_type": "display_data"
    }
   ],
   "source": [
    "table = pd.DataFrame({\n",
    "                    'Avg. ex. return (%)' : avg_ex_ret[0]['ew_ret'].values * 1200,\n",
    "                    'Alpha' : coefs[0][coefs[0].ret_type == 'ew_ret']['alpha'].values * 12, \n",
    "                    'Beta' : coefs[0][coefs[0].ret_type == 'ew_ret']['beta'].values,\n",
    "                    'Avg. ex. return (%) ' : avg_ex_ret[0]['vw_ret'].values * 1200,\n",
    "                    'Alpha ' : coefs[0][coefs[0].ret_type == 'vw_ret']['alpha'].values * 12, \n",
    "                    'Beta ' : coefs[0][coefs[0].ret_type == 'vw_ret']['beta'].values,\n",
    "                      }, index = np.arange(1, 11))\n",
    "print('\\n (b) Annualized statistics of the portfolios. Portfolio 1 - decile with lowest market capitalization stocks, portfolio 10 - with highest market capitalization stocks.')\n",
    "print('\\n        Equally weighted                   Value weighted')\n",
    "display(np.around(table,3))"
   ]
  },
  {
   "cell_type": "markdown",
   "metadata": {},
   "source": [
    "(c)\n",
    "\n",
    "When looking at the table, we can notice that the relation between average excess return of equal weighted portfolios and the market capitalization is quadratic: as the market cap. increases, firstly, the return increases, then starts to go down as we reach the top market capitalization portfolios. Furthermore, the relation between average excess return of value weighted portfolios and the market capitalization is somewhat between quadratic and a straight line. It can be observed that the average excess return decreases as we move to the portfolios with bigger market capitalization. A graph showing both relations is given below."
   ]
  },
  {
   "cell_type": "code",
   "execution_count": 22,
   "metadata": {},
   "outputs": [
    {
     "data": {
      "image/png": "[encoded data removed]",
      "text/plain": [
       "<Figure size 432x288 with 1 Axes>"
      ]
     },
     "metadata": {
      "needs_background": "light"
     },
     "output_type": "display_data"
    }
   ],
   "source": [
    "#plot\n",
    "x = np.arange(1,11)\n",
    "y = avg_ex_ret[0]['ew_ret'].values * 12\n",
    "plt.scatter(x, y)\n",
    "z = avg_ex_ret[0]['vw_ret'].values * 12\n",
    "plt.scatter(x, z)\n",
    "plt.ylabel('Average monthly excess return')\n",
    "plt.xlabel('Portfolio group')\n",
    "plt.plot(np.unique(x), np.poly1d(np.polyfit(x, y, 2))(np.unique(x)), label = 'Fit of 10 eq. w. portfolios')\n",
    "plt.plot(np.unique(x), np.poly1d(np.polyfit(x, z, 2))(np.unique(x)), label = 'Fit of 10 v. w. portfolios')\n",
    "plt.legend()\n",
    "plt.title('\\nAverage ann. monthly excess return vs. Portfolios sorted by market cap')\n",
    "plt.ylim(0.06, 0.25)\n",
    "plt.xticks(np.arange(min(x), max(x)+1, 1))\n",
    "plt.show()"
   ]
  },
  {
   "cell_type": "markdown",
   "metadata": {},
   "source": [
    "Can the CAPM explain the behaviour of the stocks? Let's analyse this question with the help of the graph below. For equally weighted portfolios: we notice that the slope of the market excess return line is less steep, than the slope of fit line through the portfolios. It can also be observed that the whole portfolio fit line is shifted up, relative to the CAPM predicted line. This means that returns from these portfolios are higher than expected. Thus CAPM does not predict the returns accurately.\n",
    "\n",
    "For the value weighted portfolios the situation is a bit different. The slope of the market excess return line is steeper, than the slope of fit line through the portfolios. Additionally, the intercept of the portfolio fit line is much higher than the risk-free rate, making the portfolio fit line almost parallel to the abscissa axis. As a result, the value weighted portfolios seem to have higher than expected returns with smaller beta and lower than expected returns with high beta (if we extended both lines to the right, it is obvious that return for high beta portfolios would be too low)."
   ]
  },
  {
   "cell_type": "code",
   "execution_count": 15,
   "metadata": {},
   "outputs": [],
   "source": [
    "def abline(slope, intercept, title):\n",
    "    \"\"\"Plot a line from slope and intercept\"\"\"\n",
    "    axes = plt.gca()\n",
    "    x_vals = np.array(axes.get_xlim())\n",
    "    y_vals = intercept + slope * x_vals\n",
    "    plt.plot(x_vals, y_vals, label=title)"
   ]
  },
  {
   "cell_type": "code",
   "execution_count": 16,
   "metadata": {},
   "outputs": [
    {
     "data": {
      "image/png": "[encoded data removed]",
      "text/plain": [
       "<Figure size 432x288 with 1 Axes>"
      ]
     },
     "metadata": {
      "needs_background": "light"
     },
     "output_type": "display_data"
    }
   ],
   "source": [
    "#plot\n",
    "x = coefs[0][coefs[0].ret_type == 'ew_ret']['beta'].values\n",
    "y = avg_ex_ret[0]['ew_ret'].values * 12\n",
    "plt.scatter(x, y)\n",
    "w = coefs[0][coefs[0].ret_type == 'vw_ret']['beta'].values\n",
    "z = avg_ex_ret[0]['vw_ret'].values * 12\n",
    "plt.scatter(w, z)\n",
    "plt.ylabel('Average monthly excess return')\n",
    "plt.xlabel('Beta')\n",
    "plt.plot(np.unique(x), np.poly1d(np.polyfit(x, y, 1))(np.unique(x)), label = 'Fit of 10 eq. w. portfolios')\n",
    "plt.plot(np.unique(w), np.poly1d(np.polyfit(w, z, 1))(np.unique(w)), label = 'Fit of 10 v. w. portfolios')\n",
    "abline(np.mean(mkt_ex[0])*12, r0 * 12, 'Average mkt. excess return')\n",
    "plt.legend()\n",
    "plt.title('\\nAverage ann. monthly excess return vs. portfolio beta')\n",
    "plt.show()"
   ]
  },
  {
   "cell_type": "code",
   "execution_count": 41,
   "metadata": {
    "scrolled": false
   },
   "outputs": [
    {
     "name": "stdout",
     "output_type": "stream",
     "text": [
      "\n",
      " (d) Annualized statistics of the portfolios. Portfolio 1 - decile with lowest market capitalization stocks, portfolio 10 - with highest market capitalization stocks.\n",
      "\n",
      "        Equally weighted                   Value weighted\n"
     ]
    },
    {
     "data": {
      "text/html": [
       "<div>\n",
       "<style scoped>\n",
       "    .dataframe tbody tr th:only-of-type {\n",
       "        vertical-align: middle;\n",
       "    }\n",
       "\n",
       "    .dataframe tbody tr th {\n",
       "        vertical-align: top;\n",
       "    }\n",
       "\n",
       "    .dataframe thead th {\n",
       "        text-align: right;\n",
       "    }\n",
       "</style>\n",
       "<table border=\"1\" class=\"dataframe\">\n",
       "  <thead>\n",
       "    <tr style=\"text-align: right;\">\n",
       "      <th></th>\n",
       "      <th>Avg. ex. return (%)</th>\n",
       "      <th>Alpha</th>\n",
       "      <th>Beta</th>\n",
       "      <th>Avg. ex. return (%)</th>\n",
       "      <th>Alpha</th>\n",
       "      <th>Beta</th>\n",
       "    </tr>\n",
       "  </thead>\n",
       "  <tbody>\n",
       "    <tr>\n",
       "      <td>1</td>\n",
       "      <td>7.017</td>\n",
       "      <td>0.028</td>\n",
       "      <td>1.057</td>\n",
       "      <td>13.638</td>\n",
       "      <td>0.093</td>\n",
       "      <td>1.125</td>\n",
       "    </tr>\n",
       "    <tr>\n",
       "      <td>2</td>\n",
       "      <td>14.016</td>\n",
       "      <td>0.084</td>\n",
       "      <td>1.322</td>\n",
       "      <td>20.097</td>\n",
       "      <td>0.147</td>\n",
       "      <td>1.311</td>\n",
       "    </tr>\n",
       "    <tr>\n",
       "      <td>3</td>\n",
       "      <td>14.182</td>\n",
       "      <td>0.092</td>\n",
       "      <td>1.195</td>\n",
       "      <td>19.575</td>\n",
       "      <td>0.150</td>\n",
       "      <td>1.169</td>\n",
       "    </tr>\n",
       "    <tr>\n",
       "      <td>4</td>\n",
       "      <td>13.064</td>\n",
       "      <td>0.084</td>\n",
       "      <td>1.148</td>\n",
       "      <td>17.393</td>\n",
       "      <td>0.130</td>\n",
       "      <td>1.136</td>\n",
       "    </tr>\n",
       "    <tr>\n",
       "      <td>5</td>\n",
       "      <td>14.349</td>\n",
       "      <td>0.100</td>\n",
       "      <td>1.081</td>\n",
       "      <td>18.124</td>\n",
       "      <td>0.140</td>\n",
       "      <td>1.074</td>\n",
       "    </tr>\n",
       "    <tr>\n",
       "      <td>6</td>\n",
       "      <td>15.521</td>\n",
       "      <td>0.114</td>\n",
       "      <td>1.034</td>\n",
       "      <td>18.757</td>\n",
       "      <td>0.149</td>\n",
       "      <td>1.020</td>\n",
       "    </tr>\n",
       "    <tr>\n",
       "      <td>7</td>\n",
       "      <td>14.724</td>\n",
       "      <td>0.108</td>\n",
       "      <td>0.997</td>\n",
       "      <td>18.196</td>\n",
       "      <td>0.145</td>\n",
       "      <td>0.991</td>\n",
       "    </tr>\n",
       "    <tr>\n",
       "      <td>8</td>\n",
       "      <td>13.190</td>\n",
       "      <td>0.095</td>\n",
       "      <td>0.954</td>\n",
       "      <td>16.239</td>\n",
       "      <td>0.130</td>\n",
       "      <td>0.917</td>\n",
       "    </tr>\n",
       "    <tr>\n",
       "      <td>9</td>\n",
       "      <td>12.889</td>\n",
       "      <td>0.100</td>\n",
       "      <td>0.813</td>\n",
       "      <td>15.497</td>\n",
       "      <td>0.128</td>\n",
       "      <td>0.803</td>\n",
       "    </tr>\n",
       "    <tr>\n",
       "      <td>10</td>\n",
       "      <td>11.404</td>\n",
       "      <td>0.085</td>\n",
       "      <td>0.815</td>\n",
       "      <td>11.972</td>\n",
       "      <td>0.096</td>\n",
       "      <td>0.742</td>\n",
       "    </tr>\n",
       "  </tbody>\n",
       "</table>\n",
       "</div>"
      ],
      "text/plain": [
       "    Avg. ex. return (%)  Alpha   Beta  Avg. ex. return (%)   Alpha   Beta \n",
       "1                 7.017  0.028  1.057                13.638   0.093  1.125\n",
       "2                14.016  0.084  1.322                20.097   0.147  1.311\n",
       "3                14.182  0.092  1.195                19.575   0.150  1.169\n",
       "4                13.064  0.084  1.148                17.393   0.130  1.136\n",
       "5                14.349  0.100  1.081                18.124   0.140  1.074\n",
       "6                15.521  0.114  1.034                18.757   0.149  1.020\n",
       "7                14.724  0.108  0.997                18.196   0.145  0.991\n",
       "8                13.190  0.095  0.954                16.239   0.130  0.917\n",
       "9                12.889  0.100  0.813                15.497   0.128  0.803\n",
       "10               11.404  0.085  0.815                11.972   0.096  0.742"
      ]
     },
     "metadata": {},
     "output_type": "display_data"
    }
   ],
   "source": [
    "table1 = pd.DataFrame({\n",
    "                    'Avg. ex. return (%)' : avg_ex_ret[1]['ew_ret'].values * 1200,\n",
    "                    'Alpha' : coefs[1][coefs[1].ret_type == 'ew_ret']['alpha'].values * 12, \n",
    "                    'Beta' : coefs[1][coefs[1].ret_type == 'ew_ret']['beta'].values,\n",
    "                    'Avg. ex. return (%) ' : avg_ex_ret[1]['vw_ret'].values * 1200,\n",
    "                    'Alpha ' : coefs[1][coefs[1].ret_type == 'vw_ret']['alpha'].values * 12, \n",
    "                    'Beta ' : coefs[1][coefs[1].ret_type == 'vw_ret']['beta'].values,\n",
    "                      }, index = np.arange(1, 11))\n",
    "print('\\n (d) Annualized statistics of the portfolios. Portfolio 1 - decile with lowest market capitalization stocks, portfolio 10 - with highest market capitalization stocks.')\n",
    "print('\\n        Equally weighted                   Value weighted')\n",
    "display(np.around(table1,3))"
   ]
  },
  {
   "cell_type": "markdown",
   "metadata": {},
   "source": [
    "When looking at the table, we notice again that the relation between average excess return of equal weighted portfolios and the market capitalization is quadratic: as the market cap. increases, firstly, the return increases, then starts to go down as we reach the top market capitalization portfolios. Moreover, the relation between average excess return of value weighted portfolios and the market capitalization is also quadratic. As we look at the fit line of portfolios with bigger market capitalization, we notice that the average excess return decreases and becomes more similar between the equally weighted and value weighted portfolios - similarly as in part b). However, for low beta portfolios the difference between portfolio returns is smaller than in part b). A graph showing both relations is given above."
   ]
  },
  {
   "cell_type": "code",
   "execution_count": 21,
   "metadata": {},
   "outputs": [
    {
     "data": {
      "image/png": "[encoded data removed]",
      "text/plain": [
       "<Figure size 432x288 with 1 Axes>"
      ]
     },
     "metadata": {
      "needs_background": "light"
     },
     "output_type": "display_data"
    }
   ],
   "source": [
    "#plot\n",
    "x = np.arange(1,11)\n",
    "y = avg_ex_ret[1]['ew_ret'].values * 12\n",
    "plt.scatter(x, y)\n",
    "z = avg_ex_ret[1]['vw_ret'].values * 12\n",
    "plt.scatter(x, z)\n",
    "plt.ylabel('Average monthly excess return')\n",
    "plt.xlabel('Portfolio group')\n",
    "plt.plot(np.unique(x), np.poly1d(np.polyfit(x, y, 2))(np.unique(x)), label = 'Fit of 10 eq. w. portfolios')\n",
    "plt.plot(np.unique(x), np.poly1d(np.polyfit(x, z, 2))(np.unique(x)), label = 'Fit of 10 v. w. portfolios')\n",
    "plt.legend()\n",
    "plt.title('\\nAverage ann. monthly excess return vs. Portfolios sorted by market cap')\n",
    "plt.xticks(np.arange(min(x), max(x)+1, 1))\n",
    "plt.show()"
   ]
  },
  {
   "cell_type": "markdown",
   "metadata": {},
   "source": [
    "Can the CAPM explain the behaviour of the stocks? Let's analyse this question with the help of the graph below. Again we notice that equally weighted and value weighted portfolio fit lines are above the CAPM predicted line. This means that portfolios earn higher than expected returns. The intercept of both portfolio fit lines is much higher than the risk-free rate, resulting in an upward shift of these lines. Obviously, there are other factors, such as market capitalization, that could add to a better explanation of stock returns and improve the fit of the average market excess return line."
   ]
  },
  {
   "cell_type": "code",
   "execution_count": 24,
   "metadata": {},
   "outputs": [
    {
     "data": {
      "image/png": "[encoded data removed]",
      "text/plain": [
       "<Figure size 432x288 with 1 Axes>"
      ]
     },
     "metadata": {
      "needs_background": "light"
     },
     "output_type": "display_data"
    }
   ],
   "source": [
    "#plot\n",
    "x = coefs[1][coefs[1].ret_type == 'ew_ret']['beta'].values\n",
    "y = avg_ex_ret[1]['ew_ret'].values * 12\n",
    "plt.scatter(x, y)\n",
    "w = coefs[1][coefs[1].ret_type == 'vw_ret']['beta'].values\n",
    "z = avg_ex_ret[1]['vw_ret'].values * 12\n",
    "plt.scatter(w, z)\n",
    "plt.ylabel('Average monthly excess return')\n",
    "plt.xlabel('Beta')\n",
    "plt.plot(np.unique(x), np.poly1d(np.polyfit(x, y, 1))(np.unique(x)), label = 'Fit of 10 eq. w. portfolios')\n",
    "plt.plot(np.unique(w), np.poly1d(np.polyfit(w, z, 1))(np.unique(w)), label = 'Fit of 10 v. w. portfolios')\n",
    "abline(np.mean(mkt_ex[0])*12, r0 * 12, 'Average mkt. excess return')\n",
    "plt.legend()\n",
    "plt.ylim(0.04, 0.25)\n",
    "plt.title('\\nAverage ann. monthly excess return vs. portfolio beta')\n",
    "plt.show()"
   ]
  }
 ],
 "metadata": {
  "kernelspec": {
   "display_name": "Python 3",
   "language": "python",
   "name": "python3"
  },
  "language_info": {
   "codemirror_mode": {
    "name": "ipython",
    "version": 3
   },
   "file_extension": ".py",
   "mimetype": "text/x-python",
   "name": "python",
   "nbconvert_exporter": "python",
   "pygments_lexer": "ipython3",
   "version": "3.7.4"
  },
  "title": "Assignment 7"
 },
 "nbformat": 4,
 "nbformat_minor": 2
}
