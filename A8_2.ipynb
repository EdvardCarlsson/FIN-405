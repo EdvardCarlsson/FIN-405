{
 "cells": [
  {
   "cell_type": "code",
   "execution_count": 1,
   "metadata": {},
   "outputs": [
    {
     "name": "stdout",
     "output_type": "stream",
     "text": [
      "Loading library list...\n",
      "Done\n"
     ]
    }
   ],
   "source": [
    "import wrds\n",
    "import numpy as np\n",
    "import pandas as pd\n",
    "import matplotlib.pyplot as plt\n",
    "import statsmodels.api as sm\n",
    "\n",
    "db = wrds.Connection(wrds_username='edvardc')"
   ]
  },
  {
   "cell_type": "markdown",
   "metadata": {},
   "source": [
    "(a)"
   ]
  },
  {
   "cell_type": "code",
   "execution_count": 2,
   "metadata": {},
   "outputs": [],
   "source": [
    "#loading data\n",
    "mkt = db.raw_sql(\"select date, vwretd from crsp.msi where date>='1970-01-01' and date<='2019-12-31'\", date_cols=['date'])\n",
    "stocksraw = db.raw_sql(\"select a.date, a.ret, a.prc, a.shrout, a.permno from crsp.msf as a left join crsp.msenames as b on a.permno=b.permno and b.namedt<=a.date and b.nameendt>=a.date where a.date>='1970-01-01' and a.date<='2019-12-31' and b.shrcd in (10, 11) and b.exchcd in (1, 2)\", date_cols=['date'])\n",
    "factors = pd.read_csv('F-F_Research_Data_Factors.csv', index_col = 0, nrows=1122)\n",
    "mom = pd.read_csv('F-F_Momentum_Factor.csv', skiprows = 13, index_col = 0, nrows=1116)"
   ]
  },
  {
   "cell_type": "code",
   "execution_count": 8,
   "metadata": {},
   "outputs": [
    {
     "name": "stdout",
     "output_type": "stream",
     "text": [
      "Number of stocks with 600 values:  213\n"
     ]
    }
   ],
   "source": [
    "#leaving stocks with full data only\n",
    "length = stocksraw.groupby(['permno']).agg(['count'])['date']\n",
    "stocks = stocksraw[stocksraw['permno'].isin(length[length['count'] == 600].index)]\n",
    "print('Number of stocks with 600 values: ', len(np.unique(stocks.permno)))"
   ]
  },
  {
   "cell_type": "code",
   "execution_count": 9,
   "metadata": {},
   "outputs": [
    {
     "name": "stdout",
     "output_type": "stream",
     "text": [
      "Stocks with at least one NA value: \n",
      "[20415. 29209. 29612. 29938. 30509. 31691. 35107. 35107. 35991. 36281.\n",
      " 36281. 39693. 39693. 42585. 45225. 46068. 46834. 46834. 47626. 47626.\n",
      " 49138.]\n"
     ]
    }
   ],
   "source": [
    "print('Stocks with at least one NA value: ')\n",
    "print(stocks.permno[stocks.ret.isna()].values)\n",
    "\n",
    "#dropping NA\n",
    "np.unique(stocks.permno[stocks.ret.isna()].values)\n",
    "stocks = stocks[~stocks['permno'].isin(stocks.permno[stocks.ret.isna()].values)]"
   ]
  },
  {
   "cell_type": "markdown",
   "metadata": {},
   "source": [
    "Stocks with at least one NA value were removed from analysis."
   ]
  },
  {
   "cell_type": "code",
   "execution_count": 10,
   "metadata": {},
   "outputs": [
    {
     "name": "stdout",
     "output_type": "stream",
     "text": [
      "Number of stocks with 600 values and without NA:  197\n"
     ]
    }
   ],
   "source": [
    "print('Number of stocks with 600 values and without NA: ', len(np.unique(stocks.permno)))"
   ]
  },
  {
   "cell_type": "code",
   "execution_count": 11,
   "metadata": {},
   "outputs": [],
   "source": [
    "#deleting unnecessary rows and transforming factors\n",
    "stocks.date = pd.to_datetime(stocks['date'])\n",
    "factors = factors[factors.index >= np.min(stocks.index)]\n",
    "factors = factors / 100\n",
    "mom = mom[mom.index >= np.min(stocksraw.index)]\n",
    "factors['MOM'] = mom / 100"
   ]
  },
  {
   "cell_type": "code",
   "execution_count": 12,
   "metadata": {},
   "outputs": [],
   "source": [
    "#calculating market cap.\n",
    "stocks['mktcap'] = np.abs(stocks['prc']) * stocks['shrout']"
   ]
  },
  {
   "cell_type": "code",
   "execution_count": 28,
   "metadata": {},
   "outputs": [],
   "source": [
    "#preparing data frames for sorting into deciles\n",
    "dates = np.unique(stocks.date)\n",
    "deciles_b = np.zeros(((len(dates)-12)*len(np.unique(stocks.permno)), 1))\n",
    "deciles_c = np.zeros(((len(dates)-12)*len(np.unique(stocks.permno)), 1))\n",
    "stocks_sorted = stocks.sort_values(by=['date', 'permno'])\n",
    "\n",
    "#sorting data into deciles for parts b) and c)\n",
    "#for part b) we calculate the average return of the stock between months t-12 and t-2 (including them)\n",
    "#we exclude first 12 months of time series from analysis (year 1970), because of the calculation of the rolling return\n",
    "i = 0\n",
    "j = 0\n",
    "for date in dates[12:]:\n",
    "    temp_df = stocks_sorted[(stocks_sorted.date >= dates[j]) & (stocks_sorted.date <= dates[j+10])]\n",
    "    roll_ret = pd.DataFrame(temp_df[['ret', 'permno']].groupby(['permno']).agg([\"mean\"])['ret'])\n",
    "    #9 - highest market cap, 0 - lowest\n",
    "    deciles_b[i:i + len(np.unique(stocks_sorted.permno))] = pd.DataFrame(pd.qcut(roll_ret['mean'], 10).cat.codes)\n",
    "    #1 - highest market cap, 0 - lowest\n",
    "#     deciles_c[i:i + len(np.unique(stocks_sorted.permno))] = pd.DataFrame(pd.qcut(roll_ret['mean'], 2).cat.codes)\n",
    "    deciles_c[i:i + len(np.unique(stocks_sorted.permno))] = pd.DataFrame(pd.qcut(stocks_sorted[stocks_sorted.date == dates[11 + j]].mktcap, 2).cat.codes)\n",
    "    i = i + len(np.unique(stocks_sorted.permno))\n",
    "    j = j + 1"
   ]
  },
  {
   "cell_type": "code",
   "execution_count": 29,
   "metadata": {},
   "outputs": [],
   "source": [
    "#assigning deciles to stocks data\n",
    "stocks_cut = stocks_sorted[stocks_sorted.date >= np.min(dates[12:])]\n",
    "factors = factors[factors.index >= np.min(stocks_cut.date.map(lambda x: 100*x.year + x.month))]\n",
    "mkt = mkt[mkt.date >= np.min(stocks_cut.date)]\n",
    "\n",
    "deciles_b = pd.DataFrame(deciles_b, index = stocks_cut.index, columns = ['deciles_b'])\n",
    "deciles_c = pd.DataFrame(deciles_c, index = stocks_cut.index, columns = ['deciles_c'])\n",
    "stocks_cut = stocks_cut.merge(deciles_b, on = stocks_cut.index, how = 'left').drop(['key_0'], axis=1)\n",
    "stocks_cut = stocks_cut.merge(deciles_c, on = stocks_cut.index, how = 'left').drop(['key_0'], axis=1)"
   ]
  },
  {
   "cell_type": "code",
   "execution_count": 30,
   "metadata": {},
   "outputs": [],
   "source": [
    "#calculating value weighted returns\n",
    "#calculating zero cost portfolio returns\n",
    "#saving alphas and t-values\n",
    "\n",
    "avg_vw_ret = []\n",
    "zero_c_ret = []\n",
    "alpha = []\n",
    "tvalue = []\n",
    "i = 0\n",
    "for sorting in ['deciles_b', 'deciles_c']:\n",
    "    #vw monthly returns\n",
    "    tot_mktcap = pd.DataFrame(stocks_cut.groupby([sorting, 'date']).agg([\"sum\"])['mktcap']['sum'])\n",
    "    tot_mktcap['date'], tot_mktcap[sorting] = tot_mktcap.index.get_level_values('date'), tot_mktcap.index.get_level_values(sorting)\n",
    "    tot_mktcap = tot_mktcap.reset_index(drop=True)\n",
    "    tot_mktcap.columns = ['tot_mktcap', 'date', sorting]\n",
    "    \n",
    "    #shifting market cap. time series by a month\n",
    "    tot_mktcap['tot_mktcap'] = tot_mktcap.groupby([sorting])['tot_mktcap'].shift(1)\n",
    "    stocks_sorted_mktcap = stocks_cut.merge(tot_mktcap, on = [sorting, 'date'], how = 'left')\n",
    "    \n",
    "    #deleting first date of time series from analysis\n",
    "    stocks_sorted_mktcap = stocks_sorted_mktcap[~(stocks_sorted_mktcap.date == np.min(stocks_sorted_mktcap.date))]\n",
    "    \n",
    "    stocks_sorted_mktcap['mktcap_weight'] = stocks_sorted_mktcap['mktcap'] / stocks_sorted_mktcap['tot_mktcap']\n",
    "    stocks_sorted_mktcap['vw_ret'] = stocks_sorted_mktcap['mktcap_weight'] * stocks_sorted_mktcap['ret']\n",
    "    \n",
    "    pf_vw_m_ret = pd.DataFrame(stocks_sorted_mktcap.groupby([sorting, 'date']).agg([\"sum\"])['vw_ret']['sum'])\n",
    "    pf_vw_m_ret['date'], pf_vw_m_ret[sorting] = pf_vw_m_ret.index.get_level_values('date'), pf_vw_m_ret.index.get_level_values(sorting)\n",
    "    pf_vw_m_ret = pf_vw_m_ret.reset_index(drop=True)\n",
    "    pf_vw_m_ret.columns = ['vw_ret', 'date', sorting]\n",
    "\n",
    "    avg_vw_ret.append(pf_vw_m_ret.groupby(sorting).agg([\"sum\"])['vw_ret']['sum'] / pf_vw_m_ret.groupby(sorting).agg([\"count\"])['vw_ret']['count'])\n",
    "    zero_cost_m_ret = pf_vw_m_ret[pf_vw_m_ret[sorting] == np.max(pf_vw_m_ret[sorting])]['vw_ret'].values - pf_vw_m_ret[pf_vw_m_ret[sorting] == np.min(pf_vw_m_ret[sorting])]['vw_ret'].values\n",
    "\n",
    "    y = zero_cost_m_ret\n",
    "    if sorting == 'deciles_b':    \n",
    "        X = np.column_stack((mkt.vwretd[1:], factors.SMB[1:], factors.HML[1:]))\n",
    "    else:\n",
    "        X = np.column_stack((mkt.vwretd[1:], factors.SMB[1:], factors.HML[1:], factors.MOM[1:]))\n",
    "    X = sm.add_constant(X)\n",
    "    model = sm.OLS(endog=y, exog=X, missing='drop').fit()\n",
    "    alpha.append(model.params[0])\n",
    "    tvalue.append(model.tvalues[0])\n",
    "    zero_c_ret.append(np.mean(zero_cost_m_ret))\n",
    "    \n",
    "    i = i + 1"
   ]
  },
  {
   "cell_type": "code",
   "execution_count": 31,
   "metadata": {},
   "outputs": [
    {
     "name": "stdout",
     "output_type": "stream",
     "text": [
      "\n",
      "b) Annualized average monthly value weighted returns of decile portfolios. Portfolio 1 - decile with lowest market capitalization stocks, portfolio 10 - with highest market capitalization stocks.\n"
     ]
    },
    {
     "data": {
      "text/html": [
       "<div>\n",
       "<style scoped>\n",
       "    .dataframe tbody tr th:only-of-type {\n",
       "        vertical-align: middle;\n",
       "    }\n",
       "\n",
       "    .dataframe tbody tr th {\n",
       "        vertical-align: top;\n",
       "    }\n",
       "\n",
       "    .dataframe thead th {\n",
       "        text-align: right;\n",
       "    }\n",
       "</style>\n",
       "<table border=\"1\" class=\"dataframe\">\n",
       "  <thead>\n",
       "    <tr style=\"text-align: right;\">\n",
       "      <th></th>\n",
       "      <th>Avg. return (%)</th>\n",
       "    </tr>\n",
       "  </thead>\n",
       "  <tbody>\n",
       "    <tr>\n",
       "      <td>1</td>\n",
       "      <td>20.379</td>\n",
       "    </tr>\n",
       "    <tr>\n",
       "      <td>2</td>\n",
       "      <td>19.732</td>\n",
       "    </tr>\n",
       "    <tr>\n",
       "      <td>3</td>\n",
       "      <td>19.077</td>\n",
       "    </tr>\n",
       "    <tr>\n",
       "      <td>4</td>\n",
       "      <td>21.265</td>\n",
       "    </tr>\n",
       "    <tr>\n",
       "      <td>5</td>\n",
       "      <td>15.303</td>\n",
       "    </tr>\n",
       "    <tr>\n",
       "      <td>6</td>\n",
       "      <td>20.687</td>\n",
       "    </tr>\n",
       "    <tr>\n",
       "      <td>7</td>\n",
       "      <td>20.267</td>\n",
       "    </tr>\n",
       "    <tr>\n",
       "      <td>8</td>\n",
       "      <td>23.227</td>\n",
       "    </tr>\n",
       "    <tr>\n",
       "      <td>9</td>\n",
       "      <td>21.786</td>\n",
       "    </tr>\n",
       "    <tr>\n",
       "      <td>10</td>\n",
       "      <td>26.603</td>\n",
       "    </tr>\n",
       "  </tbody>\n",
       "</table>\n",
       "</div>"
      ],
      "text/plain": [
       "    Avg. return (%)\n",
       "1            20.379\n",
       "2            19.732\n",
       "3            19.077\n",
       "4            21.265\n",
       "5            15.303\n",
       "6            20.687\n",
       "7            20.267\n",
       "8            23.227\n",
       "9            21.786\n",
       "10           26.603"
      ]
     },
     "metadata": {},
     "output_type": "display_data"
    }
   ],
   "source": [
    "rets_table1 = pd.DataFrame({\n",
    "                    'Avg. return (%)' : np.multiply(avg_vw_ret[0].values, 1200)\n",
    "                      }, index = np.arange(1,11))\n",
    "print('\\nb) Annualized average monthly value weighted returns of decile portfolios. Portfolio 1 - decile with lowest market capitalization stocks, portfolio 10 - with highest market capitalization stocks.')\n",
    "display(np.around(rets_table1,3))"
   ]
  },
  {
   "cell_type": "code",
   "execution_count": 32,
   "metadata": {},
   "outputs": [
    {
     "data": {
      "image/png": "[encoded data removed]",
      "text/plain": [
       "<Figure size 432x288 with 1 Axes>"
      ]
     },
     "metadata": {
      "needs_background": "light"
     },
     "output_type": "display_data"
    }
   ],
   "source": [
    "#plot\n",
    "x = np.arange(1,11)\n",
    "y = avg_vw_ret[0].values * 12\n",
    "plt.scatter(x, y)\n",
    "plt.ylabel('Ann. average monthly return')\n",
    "plt.xlabel('Portfolio group')\n",
    "plt.plot(np.unique(x), np.poly1d(np.polyfit(x, y, 2))(np.unique(x)), label = 'Fit of 10 value wt. portfolios')\n",
    "plt.legend()\n",
    "plt.title('\\nAverage ann. monthly return vs. Portfolios sorted by market cap')\n",
    "# plt.ylim(0.06, 0.25)\n",
    "plt.xticks(np.arange(min(x), max(x)+1, 1))\n",
    "plt.show()"
   ]
  },
  {
   "cell_type": "markdown",
   "metadata": {},
   "source": [
    "We observe that the relation between average monthly return of value weighted portfolios and the market capitalization is quadratic: as the market cap. increases, firstly, the return decreases, then goes up as we reach the top market capitalization portfolios. The highest return appears for the portfolio with highest market cap. stocks. Comments on zero cost portfolio are given in part c)."
   ]
  },
  {
   "cell_type": "code",
   "execution_count": 33,
   "metadata": {},
   "outputs": [
    {
     "name": "stdout",
     "output_type": "stream",
     "text": [
      "\n",
      "c) Annualized average monthly value weighted returns of decile portfolios. Portfolio 1 - decile with lowest market capitalization stocks, portfolio 2 - with highest market capitalization stocks.\n"
     ]
    },
    {
     "data": {
      "text/html": [
       "<div>\n",
       "<style scoped>\n",
       "    .dataframe tbody tr th:only-of-type {\n",
       "        vertical-align: middle;\n",
       "    }\n",
       "\n",
       "    .dataframe tbody tr th {\n",
       "        vertical-align: top;\n",
       "    }\n",
       "\n",
       "    .dataframe thead th {\n",
       "        text-align: right;\n",
       "    }\n",
       "</style>\n",
       "<table border=\"1\" class=\"dataframe\">\n",
       "  <thead>\n",
       "    <tr style=\"text-align: right;\">\n",
       "      <th></th>\n",
       "      <th>Avg. return (%)</th>\n",
       "    </tr>\n",
       "  </thead>\n",
       "  <tbody>\n",
       "    <tr>\n",
       "      <td>1</td>\n",
       "      <td>26.025</td>\n",
       "    </tr>\n",
       "    <tr>\n",
       "      <td>2</td>\n",
       "      <td>17.226</td>\n",
       "    </tr>\n",
       "  </tbody>\n",
       "</table>\n",
       "</div>"
      ],
      "text/plain": [
       "   Avg. return (%)\n",
       "1           26.025\n",
       "2           17.226"
      ]
     },
     "metadata": {},
     "output_type": "display_data"
    }
   ],
   "source": [
    "rets_table2 = pd.DataFrame({\n",
    "                    'Avg. return (%)' : np.multiply(avg_vw_ret[1].values, 1200)\n",
    "                      }, index = np.arange(1,3))\n",
    "print('\\nc) Annualized average monthly value weighted returns of decile portfolios. Portfolio 1 - decile with lowest market capitalization stocks, portfolio 2 - with highest market capitalization stocks.')\n",
    "display(np.around(rets_table2,3))"
   ]
  },
  {
   "cell_type": "code",
   "execution_count": 21,
   "metadata": {
    "scrolled": false
   },
   "outputs": [
    {
     "name": "stdout",
     "output_type": "stream",
     "text": [
      "\n",
      "Annualized statistics of the zero cost strategy\n"
     ]
    },
    {
     "data": {
      "text/html": [
       "<div>\n",
       "<style scoped>\n",
       "    .dataframe tbody tr th:only-of-type {\n",
       "        vertical-align: middle;\n",
       "    }\n",
       "\n",
       "    .dataframe tbody tr th {\n",
       "        vertical-align: top;\n",
       "    }\n",
       "\n",
       "    .dataframe thead th {\n",
       "        text-align: right;\n",
       "    }\n",
       "</style>\n",
       "<table border=\"1\" class=\"dataframe\">\n",
       "  <thead>\n",
       "    <tr style=\"text-align: right;\">\n",
       "      <th></th>\n",
       "      <th>Avg. return (%)</th>\n",
       "      <th>Alpha</th>\n",
       "      <th>t-value</th>\n",
       "    </tr>\n",
       "  </thead>\n",
       "  <tbody>\n",
       "    <tr>\n",
       "      <td>Part b)</td>\n",
       "      <td>6.224</td>\n",
       "      <td>0.124</td>\n",
       "      <td>2.518</td>\n",
       "    </tr>\n",
       "    <tr>\n",
       "      <td>Part c)</td>\n",
       "      <td>-8.800</td>\n",
       "      <td>-0.071</td>\n",
       "      <td>-6.653</td>\n",
       "    </tr>\n",
       "  </tbody>\n",
       "</table>\n",
       "</div>"
      ],
      "text/plain": [
       "         Avg. return (%)  Alpha  t-value\n",
       "Part b)            6.224  0.124    2.518\n",
       "Part c)           -8.800 -0.071   -6.653"
      ]
     },
     "metadata": {},
     "output_type": "display_data"
    }
   ],
   "source": [
    "table = pd.DataFrame({\n",
    "                    'Avg. return (%)' : np.multiply(zero_c_ret, 1200),\n",
    "                    'Alpha' : np.multiply(alpha, 12), \n",
    "                    't-value' : tvalue\n",
    "                      }, index = ['Part b)', 'Part c)'])\n",
    "print('\\nAnnualized statistics of the zero cost strategy')\n",
    "display(np.around(table,3))"
   ]
  },
  {
   "cell_type": "markdown",
   "metadata": {},
   "source": [
    "For part b) the zero-cost strategy alpha is positive and statistically significant (indicated by absolute value of t-value > 2). This means that the Fama-French factors (market return, SMB and HML) do not fully capture the returns of this zero-cost strategy.\n",
    "\n",
    "In part c) the zero-cost strategy alpha is negative and also statistically significant. Thus, we can reject the hypothesis that the returns of this zero-cost strategy portfolio are explained by the Carhart 4 factor model (market return, SMB, HML and momentum). Also, the return is much lower than the strategy in part b). Negative return means that smaller market cap. stocks outperform higher market cap. stocks on average."
   ]
  }
 ],
 "metadata": {
  "kernelspec": {
   "display_name": "Python 3",
   "language": "python",
   "name": "python3"
  },
  "language_info": {
   "codemirror_mode": {
    "name": "ipython",
    "version": 3
   },
   "file_extension": ".py",
   "mimetype": "text/x-python",
   "name": "python",
   "nbconvert_exporter": "python",
   "pygments_lexer": "ipython3",
   "version": "3.7.4"
  },
  "title": "Assignment 8"
 },
 "nbformat": 4,
 "nbformat_minor": 2
}
