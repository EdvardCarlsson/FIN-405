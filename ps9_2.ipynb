{
 "cells": [
  {
   "cell_type": "code",
   "execution_count": 1,
   "metadata": {},
   "outputs": [],
   "source": [
    "import numpy as np\n",
    "import matplotlib.pyplot as plt\n"
   ]
  },
  {
   "cell_type": "markdown",
   "metadata": {},
   "source": [
    "# b)"
   ]
  },
  {
   "cell_type": "code",
   "execution_count": 2,
   "metadata": {},
   "outputs": [],
   "source": [
    "# Coefficients\n",
    "\n",
    "mu    = np.array([0.05,0.15]).reshape((2,1))\n",
    "sigma = np.array([0.15,0.25]).reshape((2,1))\n",
    "b     = np.array([0.03,0.03]).reshape((2,1))\n",
    "R0    = 0.02 \n",
    "rho   = 0.5\n",
    "gamma = 1       # Since we don't have a given value for gamma\n",
    "\n",
    "cov = np.array([sigma[0]**2,rho*sigma[0]*sigma[1],rho*sigma[0]*sigma[1],sigma[1]**2]).reshape((2,2))\n",
    "invcov = np.linalg.inv(cov)"
   ]
  },
  {
   "cell_type": "code",
   "execution_count": 3,
   "metadata": {},
   "outputs": [
    {
     "data": {
      "text/plain": [
       "Text(0.5, 1.0, 'Trade Regions')"
      ]
     },
     "execution_count": 3,
     "metadata": {},
     "output_type": "execute_result"
    },
    {
     "data": {
      "image/png": "[encoded data removed]",
      "text/plain": [
       "<Figure size 432x288 with 1 Axes>"
      ]
     },
     "metadata": {
      "needs_background": "light"
     },
     "output_type": "display_data"
    }
   ],
   "source": [
    "\n",
    "# Region 1: 1: buy, 2: buy\n",
    "bb = (invcov@(mu-R0-np.multiply(b,np.array([1,1]).reshape(2,1))))/gamma\n",
    "plt.plot(bb[0],bb[1],'rx')\n",
    "bb1_x = bb[0]*np.ones((50,1))\n",
    "bb1_y = np.linspace(bb[1]-2,bb[1])\n",
    "plt.plot(bb1_x,bb1_y,'r-')\n",
    "bb2_x = np.linspace(bb[0]-2,bb[0])\n",
    "bb2_y = bb[1]*np.ones((50,1))\n",
    "plt.plot(bb2_x,bb2_y,'r-')\n",
    "\n",
    "# Region 2: 1: sell, 2: sell\n",
    "ss = (invcov@(mu-R0-np.multiply(b,np.array([-1,-1]).reshape(2,1))))/gamma\n",
    "plt.plot(ss[0],ss[1],'rx')\n",
    "ss1_x = ss[0]*np.ones((50,1))\n",
    "ss1_y = np.linspace(ss[1]+2,ss[1])\n",
    "plt.plot(ss1_x,ss1_y,'r-')\n",
    "ss2_x = np.linspace(ss[0]+2,ss[0])\n",
    "ss2_y = ss[1]*np.ones((50,1))\n",
    "plt.plot(ss2_x,ss2_y,'r-')\n",
    "\n",
    "# Region 3: 1: buy, 2: sell\n",
    "bs = (invcov@(mu-R0-np.multiply(b,np.array([1,-1]).reshape(2,1))))/gamma\n",
    "plt.plot(bs[0],bs[1],'rx')\n",
    "bs1_x = bs[0]*np.ones((50,1))\n",
    "bs1_y = np.linspace(bs[1]+2,bs[1])\n",
    "plt.plot(bs1_x,bs1_y,'r-')\n",
    "bs2_x = np.linspace(bs[0]-2,bs[0])\n",
    "bs2_y = bs[1]*np.ones((50,1))\n",
    "plt.plot(bs2_x,bs2_y,'r-')\n",
    "\n",
    "# Region 4: 1: sell, 2: buy\n",
    "sb = (invcov@(mu-R0-np.multiply(b,np.array([-1,1]).reshape(2,1))))/gamma\n",
    "plt.plot(sb[0],sb[1],'rx')\n",
    "sb1_x = sb[0]*np.ones((50,1))\n",
    "sb1_y = np.linspace(sb[1]-2,sb[1])\n",
    "plt.plot(sb1_x,sb1_y,'r-')\n",
    "sb2_x = np.linspace(sb[0]+2,sb[0])\n",
    "sb2_y = sb[1]*np.ones((50,1))\n",
    "plt.plot(sb2_x,sb2_y,'r-')\n",
    "\n",
    "# Region 5: 1: buy, 2: no trade\n",
    "bn_x = np.empty((50,1))\n",
    "bn_y = np.linspace(bs[1],bb[1]).reshape((50,1))\n",
    "for i in range(50): \n",
    "    bn_x[i] = (mu[0]-R0-b[0]-cov[0][1]*bn_y[i])/(gamma*cov[0][0])\n",
    "plt.plot(bn_x,bn_y,'r-')\n",
    "\n",
    "# Region 6: 1: sell, 2: no trade\n",
    "sn_x = np.empty((50,1))\n",
    "sn_y = np.linspace(ss[1],sb[1]).reshape((50,1))\n",
    "for i in range(50): \n",
    "    sn_x[i] = (mu[0]-R0+b[0]-cov[0][1]*sn_y[i])/(gamma*cov[0][0])\n",
    "plt.plot(sn_x,sn_y,'r-')\n",
    " \n",
    "# Region 7: 1: no trade, 2: buy\n",
    "nb_x = np.linspace(bb[0],sb[0]).reshape((50,1))\n",
    "nb_y = np.empty((50,1))\n",
    "for i in range(50): \n",
    "    nb_y[i] = (mu[1]-R0-b[1]-cov[0][1]*nb_x[i])/(gamma*cov[1][1])\n",
    "plt.plot(nb_x,nb_y,'r-')\n",
    " \n",
    "# Region 8: 1: no trade, 2: sell\n",
    "ns_x = np.linspace(bs[0],ss[0]).reshape((50,1))\n",
    "ns_y = np.empty((50,1))\n",
    "for i in range(50): \n",
    "    ns_y[i] = (mu[1]-R0+b[1]-cov[0][1]*ns_x[i])/(gamma*cov[1][1])\n",
    "plt.plot(ns_x,ns_y,'r-')\n",
    "\n",
    "plt.xlabel('x10')\n",
    "plt.ylabel('x20')\n",
    "plt.title('Trade Regions')"
   ]
  },
  {
   "cell_type": "markdown",
   "metadata": {},
   "source": [
    "# c)"
   ]
  },
  {
   "cell_type": "code",
   "execution_count": 4,
   "metadata": {},
   "outputs": [
    {
     "name": "stdout",
     "output_type": "stream",
     "text": [
      "Correlation: 0.75\n"
     ]
    },
    {
     "data": {
      "image/png": "[encoded data removed]",
      "text/plain": [
       "<Figure size 432x288 with 1 Axes>"
      ]
     },
     "metadata": {
      "needs_background": "light"
     },
     "output_type": "display_data"
    }
   ],
   "source": [
    "rho = 0.75\n",
    "cov = np.array([sigma[0]**2,rho*sigma[0]*sigma[1],rho*sigma[0]*sigma[1],sigma[1]**2]).reshape((2,2))\n",
    "invcov = np.linalg.inv(cov)\n",
    "\n",
    "\n",
    "# Region 1: 1: buy, 2: buy\n",
    "bb = (invcov@(mu-R0-np.multiply(b,np.array([1,1]).reshape(2,1))))/gamma\n",
    "plt.plot(bb[0],bb[1],'rx')\n",
    "bb1_x = bb[0]*np.ones((50,1))\n",
    "bb1_y = np.linspace(bb[1]-2,bb[1])\n",
    "plt.plot(bb1_x,bb1_y,'r-')\n",
    "bb2_x = np.linspace(bb[0]-2,bb[0])\n",
    "bb2_y = bb[1]*np.ones((50,1))\n",
    "plt.plot(bb2_x,bb2_y,'r-')\n",
    "\n",
    "# Region 2: 1: sell, 2: sell\n",
    "ss = (invcov@(mu-R0-np.multiply(b,np.array([-1,-1]).reshape(2,1))))/gamma\n",
    "plt.plot(ss[0],ss[1],'rx')\n",
    "ss1_x = ss[0]*np.ones((50,1))\n",
    "ss1_y = np.linspace(ss[1]+2,ss[1])\n",
    "plt.plot(ss1_x,ss1_y,'r-')\n",
    "ss2_x = np.linspace(ss[0]+2,ss[0])\n",
    "ss2_y = ss[1]*np.ones((50,1))\n",
    "plt.plot(ss2_x,ss2_y,'r-')\n",
    "\n",
    "# Region 3: 1: buy, 2: sell\n",
    "bs = (invcov@(mu-R0-np.multiply(b,np.array([1,-1]).reshape(2,1))))/gamma\n",
    "plt.plot(bs[0],bs[1],'rx')\n",
    "bs1_x = bs[0]*np.ones((50,1))\n",
    "bs1_y = np.linspace(bs[1]+2,bs[1])\n",
    "plt.plot(bs1_x,bs1_y,'r-')\n",
    "bs2_x = np.linspace(bs[0]-2,bs[0])\n",
    "bs2_y = bs[1]*np.ones((50,1))\n",
    "plt.plot(bs2_x,bs2_y,'r-')\n",
    "\n",
    "# Region 4: 1: sell, 2: buy\n",
    "sb = (invcov@(mu-R0-np.multiply(b,np.array([-1,1]).reshape(2,1))))/gamma\n",
    "plt.plot(sb[0],sb[1],'rx')\n",
    "sb1_x = sb[0]*np.ones((50,1))\n",
    "sb1_y = np.linspace(sb[1]-2,sb[1])\n",
    "plt.plot(sb1_x,sb1_y,'r-')\n",
    "sb2_x = np.linspace(sb[0]+2,sb[0])\n",
    "sb2_y = sb[1]*np.ones((50,1))\n",
    "plt.plot(sb2_x,sb2_y,'r-')\n",
    "\n",
    "# Region 5: 1: buy, 2: no trade\n",
    "bn_x = np.empty((50,1))\n",
    "bn_y = np.linspace(bs[1],bb[1]).reshape((50,1))\n",
    "for i in range(50): \n",
    "    bn_x[i] = (mu[0]-R0-b[0]-cov[0][1]*bn_y[i])/(gamma*cov[0][0])\n",
    "plt.plot(bn_x,bn_y,'r-')\n",
    "\n",
    "# Region 6: 1: sell, 2: no trade\n",
    "sn_x = np.empty((50,1))\n",
    "sn_y = np.linspace(ss[1],sb[1]).reshape((50,1))\n",
    "for i in range(50): \n",
    "    sn_x[i] = (mu[0]-R0+b[0]-cov[0][1]*sn_y[i])/(gamma*cov[0][0])\n",
    "plt.plot(sn_x,sn_y,'r-')\n",
    " \n",
    "# Region 7: 1: no trade, 2: buy\n",
    "nb_x = np.linspace(bb[0],sb[0]).reshape((50,1))\n",
    "nb_y = np.empty((50,1))\n",
    "for i in range(50): \n",
    "    nb_y[i] = (mu[1]-R0-b[1]-cov[0][1]*nb_x[i])/(gamma*cov[1][1])\n",
    "plt.plot(nb_x,nb_y,'r-')\n",
    " \n",
    "# Region 8: 1: no trade, 2: sell\n",
    "ns_x = np.linspace(bs[0],ss[0]).reshape((50,1))\n",
    "ns_y = np.empty((50,1))\n",
    "for i in range(50): \n",
    "    ns_y[i] = (mu[1]-R0+b[1]-cov[0][1]*ns_x[i])/(gamma*cov[1][1])\n",
    "plt.plot(ns_x,ns_y,'r-')\n",
    "\n",
    "plt.xlabel('x10')\n",
    "plt.ylabel('x20')\n",
    "plt.title('Trade Regions')\n",
    "\n",
    "print('Correlation: 0.75')"
   ]
  },
  {
   "cell_type": "code",
   "execution_count": 5,
   "metadata": {},
   "outputs": [
    {
     "name": "stdout",
     "output_type": "stream",
     "text": [
      "Correlation: 0.9\n"
     ]
    },
    {
     "data": {
      "image/png": "[encoded data removed]",
      "text/plain": [
       "<Figure size 432x288 with 1 Axes>"
      ]
     },
     "metadata": {
      "needs_background": "light"
     },
     "output_type": "display_data"
    }
   ],
   "source": [
    "rho = 0.9\n",
    "cov = np.array([sigma[0]**2,rho*sigma[0]*sigma[1],rho*sigma[0]*sigma[1],sigma[1]**2]).reshape((2,2))\n",
    "invcov = np.linalg.inv(cov)\n",
    "\n",
    "# Region 1: 1: buy, 2: buy\n",
    "bb = (invcov@(mu-R0-np.multiply(b,np.array([1,1]).reshape(2,1))))/gamma\n",
    "plt.plot(bb[0],bb[1],'rx')\n",
    "bb1_x = bb[0]*np.ones((50,1))\n",
    "bb1_y = np.linspace(bb[1]-2,bb[1])\n",
    "plt.plot(bb1_x,bb1_y,'r-')\n",
    "bb2_x = np.linspace(bb[0]-2,bb[0])\n",
    "bb2_y = bb[1]*np.ones((50,1))\n",
    "plt.plot(bb2_x,bb2_y,'r-')\n",
    "\n",
    "# Region 2: 1: sell, 2: sell\n",
    "ss = (invcov@(mu-R0-np.multiply(b,np.array([-1,-1]).reshape(2,1))))/gamma\n",
    "plt.plot(ss[0],ss[1],'rx')\n",
    "ss1_x = ss[0]*np.ones((50,1))\n",
    "ss1_y = np.linspace(ss[1]+2,ss[1])\n",
    "plt.plot(ss1_x,ss1_y,'r-')\n",
    "ss2_x = np.linspace(ss[0]+2,ss[0])\n",
    "ss2_y = ss[1]*np.ones((50,1))\n",
    "plt.plot(ss2_x,ss2_y,'r-')\n",
    "\n",
    "# Region 3: 1: buy, 2: sell\n",
    "bs = (invcov@(mu-R0-np.multiply(b,np.array([1,-1]).reshape(2,1))))/gamma\n",
    "plt.plot(bs[0],bs[1],'rx')\n",
    "bs1_x = bs[0]*np.ones((50,1))\n",
    "bs1_y = np.linspace(bs[1]+2,bs[1])\n",
    "plt.plot(bs1_x,bs1_y,'r-')\n",
    "bs2_x = np.linspace(bs[0]-2,bs[0])\n",
    "bs2_y = bs[1]*np.ones((50,1))\n",
    "plt.plot(bs2_x,bs2_y,'r-')\n",
    "\n",
    "# Region 4: 1: sell, 2: buy\n",
    "sb = (invcov@(mu-R0-np.multiply(b,np.array([-1,1]).reshape(2,1))))/gamma\n",
    "plt.plot(sb[0],sb[1],'rx')\n",
    "sb1_x = sb[0]*np.ones((50,1))\n",
    "sb1_y = np.linspace(sb[1]-2,sb[1])\n",
    "plt.plot(sb1_x,sb1_y,'r-')\n",
    "sb2_x = np.linspace(sb[0]+2,sb[0])\n",
    "sb2_y = sb[1]*np.ones((50,1))\n",
    "plt.plot(sb2_x,sb2_y,'r-')\n",
    "\n",
    "# Region 5: 1: buy, 2: no trade\n",
    "bn_x = np.empty((50,1))\n",
    "bn_y = np.linspace(bs[1],bb[1]).reshape((50,1))\n",
    "for i in range(50): \n",
    "    bn_x[i] = (mu[0]-R0-b[0]-cov[0][1]*bn_y[i])/(gamma*cov[0][0])\n",
    "plt.plot(bn_x,bn_y,'r-')\n",
    "\n",
    "# Region 6: 1: sell, 2: no trade\n",
    "sn_x = np.empty((50,1))\n",
    "sn_y = np.linspace(ss[1],sb[1]).reshape((50,1))\n",
    "for i in range(50): \n",
    "    sn_x[i] = (mu[0]-R0+b[0]-cov[0][1]*sn_y[i])/(gamma*cov[0][0])\n",
    "plt.plot(sn_x,sn_y,'r-')\n",
    " \n",
    "# Region 7: 1: no trade, 2: buy\n",
    "nb_x = np.linspace(bb[0],sb[0]).reshape((50,1))\n",
    "nb_y = np.empty((50,1))\n",
    "for i in range(50): \n",
    "    nb_y[i] = (mu[1]-R0-b[1]-cov[0][1]*nb_x[i])/(gamma*cov[1][1])\n",
    "plt.plot(nb_x,nb_y,'r-')\n",
    " \n",
    "# Region 8: 1: no trade, 2: sell\n",
    "ns_x = np.linspace(bs[0],ss[0]).reshape((50,1))\n",
    "ns_y = np.empty((50,1))\n",
    "for i in range(50): \n",
    "    ns_y[i] = (mu[1]-R0+b[1]-cov[0][1]*ns_x[i])/(gamma*cov[1][1])\n",
    "plt.plot(ns_x,ns_y,'r-')\n",
    "\n",
    "plt.xlabel('x10')\n",
    "plt.ylabel('x20')\n",
    "plt.title('Trade Regions')\n",
    "\n",
    "print('Correlation: 0.9')"
   ]
  },
  {
   "cell_type": "code",
   "execution_count": 8,
   "metadata": {},
   "outputs": [
    {
     "name": "stdout",
     "output_type": "stream",
     "text": [
      "Standard deviation of asset 2: 0.45\n"
     ]
    },
    {
     "data": {
      "image/png": "[encoded data removed]",
      "text/plain": [
       "<Figure size 432x288 with 1 Axes>"
      ]
     },
     "metadata": {
      "needs_background": "light"
     },
     "output_type": "display_data"
    }
   ],
   "source": [
    "rho   = 0.5\n",
    "sigma[1] = 0.45\n",
    "cov = np.array([sigma[0]**2,rho*sigma[0]*sigma[1],rho*sigma[0]*sigma[1],sigma[1]**2]).reshape((2,2))\n",
    "invcov = np.linalg.inv(cov)\n",
    "\n",
    "# Region 1: 1: buy, 2: buy\n",
    "bb = (invcov@(mu-R0-np.multiply(b,np.array([1,1]).reshape(2,1))))/gamma\n",
    "plt.plot(bb[0],bb[1],'rx')\n",
    "bb1_x = bb[0]*np.ones((50,1))\n",
    "bb1_y = np.linspace(bb[1]-2,bb[1])\n",
    "plt.plot(bb1_x,bb1_y,'r-')\n",
    "bb2_x = np.linspace(bb[0]-2,bb[0])\n",
    "bb2_y = bb[1]*np.ones((50,1))\n",
    "plt.plot(bb2_x,bb2_y,'r-')\n",
    "\n",
    "# Region 2: 1: sell, 2: sell\n",
    "ss = (invcov@(mu-R0-np.multiply(b,np.array([-1,-1]).reshape(2,1))))/gamma\n",
    "plt.plot(ss[0],ss[1],'rx')\n",
    "ss1_x = ss[0]*np.ones((50,1))\n",
    "ss1_y = np.linspace(ss[1]+2,ss[1])\n",
    "plt.plot(ss1_x,ss1_y,'r-')\n",
    "ss2_x = np.linspace(ss[0]+2,ss[0])\n",
    "ss2_y = ss[1]*np.ones((50,1))\n",
    "plt.plot(ss2_x,ss2_y,'r-')\n",
    "\n",
    "# Region 3: 1: buy, 2: sell\n",
    "bs = (invcov@(mu-R0-np.multiply(b,np.array([1,-1]).reshape(2,1))))/gamma\n",
    "plt.plot(bs[0],bs[1],'rx')\n",
    "bs1_x = bs[0]*np.ones((50,1))\n",
    "bs1_y = np.linspace(bs[1]+2,bs[1])\n",
    "plt.plot(bs1_x,bs1_y,'r-')\n",
    "bs2_x = np.linspace(bs[0]-2,bs[0])\n",
    "bs2_y = bs[1]*np.ones((50,1))\n",
    "plt.plot(bs2_x,bs2_y,'r-')\n",
    "\n",
    "# Region 4: 1: sell, 2: buy\n",
    "sb = (invcov@(mu-R0-np.multiply(b,np.array([-1,1]).reshape(2,1))))/gamma\n",
    "plt.plot(sb[0],sb[1],'rx')\n",
    "sb1_x = sb[0]*np.ones((50,1))\n",
    "sb1_y = np.linspace(sb[1]-2,sb[1])\n",
    "plt.plot(sb1_x,sb1_y,'r-')\n",
    "sb2_x = np.linspace(sb[0]+2,sb[0])\n",
    "sb2_y = sb[1]*np.ones((50,1))\n",
    "plt.plot(sb2_x,sb2_y,'r-')\n",
    "\n",
    "# Region 5: 1: buy, 2: no trade\n",
    "bn_x = np.empty((50,1))\n",
    "bn_y = np.linspace(bs[1],bb[1]).reshape((50,1))\n",
    "for i in range(50): \n",
    "    bn_x[i] = (mu[0]-R0-b[0]-cov[0][1]*bn_y[i])/(gamma*cov[0][0])\n",
    "plt.plot(bn_x,bn_y,'r-')\n",
    "\n",
    "# Region 6: 1: sell, 2: no trade\n",
    "sn_x = np.empty((50,1))\n",
    "sn_y = np.linspace(ss[1],sb[1]).reshape((50,1))\n",
    "for i in range(50): \n",
    "    sn_x[i] = (mu[0]-R0+b[0]-cov[0][1]*sn_y[i])/(gamma*cov[0][0])\n",
    "plt.plot(sn_x,sn_y,'r-')\n",
    " \n",
    "# Region 7: 1: no trade, 2: buy\n",
    "nb_x = np.linspace(bb[0],sb[0]).reshape((50,1))\n",
    "nb_y = np.empty((50,1))\n",
    "for i in range(50): \n",
    "    nb_y[i] = (mu[1]-R0-b[1]-cov[0][1]*nb_x[i])/(gamma*cov[1][1])\n",
    "plt.plot(nb_x,nb_y,'r-')\n",
    " \n",
    "# Region 8: 1: no trade, 2: sell\n",
    "ns_x = np.linspace(bs[0],ss[0]).reshape((50,1))\n",
    "ns_y = np.empty((50,1))\n",
    "for i in range(50): \n",
    "    ns_y[i] = (mu[1]-R0+b[1]-cov[0][1]*ns_x[i])/(gamma*cov[1][1])\n",
    "plt.plot(ns_x,ns_y,'r-')\n",
    "\n",
    "plt.xlabel('x10')\n",
    "plt.ylabel('x20')\n",
    "plt.title('Trade Regions')\n",
    "\n",
    "\n",
    "print('Standard deviation of asset 2: 0.45')"
   ]
  },
  {
   "cell_type": "code",
   "execution_count": 9,
   "metadata": {},
   "outputs": [
    {
     "name": "stdout",
     "output_type": "stream",
     "text": [
      "Standard deviation of asset 2: 0.60\n"
     ]
    },
    {
     "data": {
      "image/png": "[encoded data removed]",
      "text/plain": [
       "<Figure size 432x288 with 1 Axes>"
      ]
     },
     "metadata": {
      "needs_background": "light"
     },
     "output_type": "display_data"
    }
   ],
   "source": [
    "sigma[1] = 0.6\n",
    "cov = np.array([sigma[0]**2,rho*sigma[0]*sigma[1],rho*sigma[0]*sigma[1],sigma[1]**2]).reshape((2,2))\n",
    "invcov = np.linalg.inv(cov)\n",
    "\n",
    "\n",
    "# Region 1: 1: buy, 2: buy\n",
    "bb = (invcov@(mu-R0-np.multiply(b,np.array([1,1]).reshape(2,1))))/gamma\n",
    "plt.plot(bb[0],bb[1],'rx')\n",
    "bb1_x = bb[0]*np.ones((50,1))\n",
    "bb1_y = np.linspace(bb[1]-2,bb[1])\n",
    "plt.plot(bb1_x,bb1_y,'r-')\n",
    "bb2_x = np.linspace(bb[0]-2,bb[0])\n",
    "bb2_y = bb[1]*np.ones((50,1))\n",
    "plt.plot(bb2_x,bb2_y,'r-')\n",
    "\n",
    "# Region 2: 1: sell, 2: sell\n",
    "ss = (invcov@(mu-R0-np.multiply(b,np.array([-1,-1]).reshape(2,1))))/gamma\n",
    "plt.plot(ss[0],ss[1],'rx')\n",
    "ss1_x = ss[0]*np.ones((50,1))\n",
    "ss1_y = np.linspace(ss[1]+2,ss[1])\n",
    "plt.plot(ss1_x,ss1_y,'r-')\n",
    "ss2_x = np.linspace(ss[0]+2,ss[0])\n",
    "ss2_y = ss[1]*np.ones((50,1))\n",
    "plt.plot(ss2_x,ss2_y,'r-')\n",
    "\n",
    "# Region 3: 1: buy, 2: sell\n",
    "bs = (invcov@(mu-R0-np.multiply(b,np.array([1,-1]).reshape(2,1))))/gamma\n",
    "plt.plot(bs[0],bs[1],'rx')\n",
    "bs1_x = bs[0]*np.ones((50,1))\n",
    "bs1_y = np.linspace(bs[1]+2,bs[1])\n",
    "plt.plot(bs1_x,bs1_y,'r-')\n",
    "bs2_x = np.linspace(bs[0]-2,bs[0])\n",
    "bs2_y = bs[1]*np.ones((50,1))\n",
    "plt.plot(bs2_x,bs2_y,'r-')\n",
    "\n",
    "# Region 4: 1: sell, 2: buy\n",
    "sb = (invcov@(mu-R0-np.multiply(b,np.array([-1,1]).reshape(2,1))))/gamma\n",
    "plt.plot(sb[0],sb[1],'rx')\n",
    "sb1_x = sb[0]*np.ones((50,1))\n",
    "sb1_y = np.linspace(sb[1]-2,sb[1])\n",
    "plt.plot(sb1_x,sb1_y,'r-')\n",
    "sb2_x = np.linspace(sb[0]+2,sb[0])\n",
    "sb2_y = sb[1]*np.ones((50,1))\n",
    "plt.plot(sb2_x,sb2_y,'r-')\n",
    "\n",
    "# Region 5: 1: buy, 2: no trade\n",
    "bn_x = np.empty((50,1))\n",
    "bn_y = np.linspace(bs[1],bb[1]).reshape((50,1))\n",
    "for i in range(50): \n",
    "    bn_x[i] = (mu[0]-R0-b[0]-cov[0][1]*bn_y[i])/(gamma*cov[0][0])\n",
    "plt.plot(bn_x,bn_y,'r-')\n",
    "\n",
    "# Region 6: 1: sell, 2: no trade\n",
    "sn_x = np.empty((50,1))\n",
    "sn_y = np.linspace(ss[1],sb[1]).reshape((50,1))\n",
    "for i in range(50): \n",
    "    sn_x[i] = (mu[0]-R0+b[0]-cov[0][1]*sn_y[i])/(gamma*cov[0][0])\n",
    "plt.plot(sn_x,sn_y,'r-')\n",
    " \n",
    "# Region 7: 1: no trade, 2: buy\n",
    "nb_x = np.linspace(bb[0],sb[0]).reshape((50,1))\n",
    "nb_y = np.empty((50,1))\n",
    "for i in range(50): \n",
    "    nb_y[i] = (mu[1]-R0-b[1]-cov[0][1]*nb_x[i])/(gamma*cov[1][1])\n",
    "plt.plot(nb_x,nb_y,'r-')\n",
    " \n",
    "# Region 8: 1: no trade, 2: sell\n",
    "ns_x = np.linspace(bs[0],ss[0]).reshape((50,1))\n",
    "ns_y = np.empty((50,1))\n",
    "for i in range(50): \n",
    "    ns_y[i] = (mu[1]-R0+b[1]-cov[0][1]*ns_x[i])/(gamma*cov[1][1])\n",
    "plt.plot(ns_x,ns_y,'r-')\n",
    "\n",
    "plt.xlabel('x10')\n",
    "plt.ylabel('x20')\n",
    "plt.title('Trade Regions')\n",
    "\n",
    "print('Standard deviation of asset 2: 0.60')"
   ]
  },
  {
   "cell_type": "code",
   "execution_count": null,
   "metadata": {},
   "outputs": [],
   "source": []
  }
 ],
 "metadata": {
  "kernelspec": {
   "display_name": "Python 3",
   "language": "python",
   "name": "python3"
  },
  "language_info": {
   "codemirror_mode": {
    "name": "ipython",
    "version": 3
   },
   "file_extension": ".py",
   "mimetype": "text/x-python",
   "name": "python",
   "nbconvert_exporter": "python",
   "pygments_lexer": "ipython3",
   "version": "3.7.4"
  }
 },
 "nbformat": 4,
 "nbformat_minor": 2
}
